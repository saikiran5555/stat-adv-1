{
 "cells": [
  {
   "cell_type": "code",
   "execution_count": null,
   "id": "747ed903",
   "metadata": {},
   "outputs": [],
   "source": [
    "import math\n",
    "\n",
    "def poisson_cdf(lambd, x):\n",
    "    \"\"\"\n",
    "    Calculate the cumulative distribution function of a Poisson distribution.\n",
    "\n",
    "    :param lambd: Mean (lambda) of the Poisson distribution.\n",
    "    :param x: Point at which to calculate the CDF.\n",
    "    :return: CDF of the Poisson distribution at x.\n",
    "    \"\"\"\n",
    "    cdf = 0\n",
    "    for k in range(x + 1):\n",
    "        cdf += (lambd**k * math.exp(-lambd)) / math.factorial(k)\n",
    "    return cdf\n",
    "\n",
    "# Example usage\n",
    "lambd = 4.5  # Mean of the distribution\n",
    "x = 3        # Point at which to calculate the CDF\n",
    "print(f\"CDF of Poisson distribution at point {x} with mean {lambd} is {poisson_cdf(lambd, x)}\")\n"
   ]
  }
 ],
 "metadata": {
  "kernelspec": {
   "display_name": "Python 3 (ipykernel)",
   "language": "python",
   "name": "python3"
  },
  "language_info": {
   "codemirror_mode": {
    "name": "ipython",
    "version": 3
   },
   "file_extension": ".py",
   "mimetype": "text/x-python",
   "name": "python",
   "nbconvert_exporter": "python",
   "pygments_lexer": "ipython3",
   "version": "3.10.9"
  }
 },
 "nbformat": 4,
 "nbformat_minor": 5
}
