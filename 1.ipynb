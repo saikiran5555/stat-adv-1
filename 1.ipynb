{
 "cells": [
  {
   "cell_type": "markdown",
   "id": "1c080f3e",
   "metadata": {},
   "source": [
    "The probability density function (PDF) is a fundamental concept in statistics and probability theory. It describes the likelihood of a continuous random variable taking on a specific value. Unlike discrete random variables, which have a probability mass function (PMF) that assigns a probability to each value in its range, continuous random variables require a PDF because the probability of the variable taking on any single, exact value is essentially zero (since there are infinitely many possible values).\n",
    "\n"
   ]
  }
 ],
 "metadata": {
  "kernelspec": {
   "display_name": "Python 3 (ipykernel)",
   "language": "python",
   "name": "python3"
  },
  "language_info": {
   "codemirror_mode": {
    "name": "ipython",
    "version": 3
   },
   "file_extension": ".py",
   "mimetype": "text/x-python",
   "name": "python",
   "nbconvert_exporter": "python",
   "pygments_lexer": "ipython3",
   "version": "3.10.9"
  }
 },
 "nbformat": 4,
 "nbformat_minor": 5
}
