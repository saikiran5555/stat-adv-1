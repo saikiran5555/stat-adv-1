{
 "cells": [
  {
   "cell_type": "markdown",
   "id": "d83a5c1b",
   "metadata": {},
   "source": [
    "In a normal distribution, the data points are distributed symmetrically around the mean. The mean, median, and mode of a normal distribution are all the same and located at the center of the distribution. The frequency of data points decreases as you move away from the mean in either direction along the x-axis.\n",
    "\n",
    "Therefore, the least frequent data in a normal distribution appears at the extreme ends, or tails, of the distribution. These areas represent outcomes that are significantly higher or lower than the mean and are relatively rare compared to data points near the mean.\n",
    "\n",
    "To visualize this, think of the classic \"bell curve\" shape of the normal distribution. The highest point of the bell curve is right over the mean, indicating that data points near the mean are the most frequent. As you move towards the edges of the curve, the frequency (height of the curve) decreases, indicating that these data points are less frequent. The further you are from the mean, the lower the frequency, thus the tails of the distribution represent the least frequent data points.\n",
    "\n",
    "In terms of standard deviations, data points that lie more than two or three standard deviations away from the mean are particularly rare in a normal distribution. For example, in a standard normal distribution (mean = 0, standard deviation = 1):\n",
    "\n",
    "About 68% of values fall within one standard deviation (between -1 and 1).\n",
    "About 95% of values fall within two standard deviations (between -2 and 2).\n",
    "About 99.7% of values fall within three standard deviations (between -3 and 3).\n",
    "So, data points beyond three standard deviations from the mean (either below -3 or above 3 in a standard normal distribution) are extremely rare and represent the least frequent data.\n",
    "\n",
    "\n",
    "\n",
    "\n",
    "\n"
   ]
  }
 ],
 "metadata": {
  "kernelspec": {
   "display_name": "Python 3 (ipykernel)",
   "language": "python",
   "name": "python3"
  },
  "language_info": {
   "codemirror_mode": {
    "name": "ipython",
    "version": 3
   },
   "file_extension": ".py",
   "mimetype": "text/x-python",
   "name": "python",
   "nbconvert_exporter": "python",
   "pygments_lexer": "ipython3",
   "version": "3.10.9"
  }
 },
 "nbformat": 4,
 "nbformat_minor": 5
}
