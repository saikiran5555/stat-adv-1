{
 "cells": [
  {
   "cell_type": "markdown",
   "id": "ee8b68fa",
   "metadata": {},
   "source": [
    "Probability distributions can be categorized into two broad types based on the nature of their outcomes: discrete probability distributions and continuous probability distributions. Here's a brief overview of each, along with some common examples:\n",
    "\n",
    "Discrete Probability Distributions\n",
    "Discrete probability distributions apply to scenarios where the outcomes are distinct and countable. Common examples include:\n",
    "\n",
    "Binomial Distribution: Used for a fixed number of trials, each of which has only two possible outcomes (success or failure). It's characterized by the number of trials (n) and the probability of success (p).\n",
    "\n",
    "Poisson Distribution: Applies to the number of times an event occurs in a fixed interval of time or space. It's used for rare events and is characterized by the mean number of occurrences (λ).\n",
    "\n",
    "Geometric Distribution: Deals with the number of trials required to achieve the first success in repeated, independent Bernoulli trials.\n",
    "\n",
    "Negative Binomial Distribution: Similar to the geometric distribution, but it measures the number of trials needed to achieve a specified number of successes.\n",
    "\n",
    "Hypergeometric Distribution: Used in scenarios similar to the binomial distribution but without replacement. It's relevant in quality control and lot sampling.\n",
    "\n",
    "Discrete Uniform Distribution: All outcomes in a finite set are equally likely, such as the roll of a fair dice.\n",
    "\n",
    "Continuous Probability Distributions\n",
    "Continuous probability distributions are used for scenarios where outcomes can take any value within a range. Examples include:\n",
    "\n",
    "Normal (Gaussian) Distribution: The most famous distribution, often represented as a bell curve, is used in a wide variety of fields. It's characterized by its mean (µ) and standard deviation (σ).\n",
    "\n",
    "Uniform Distribution: Any value within the given interval is equally likely. The interval can be between any two numbers (a, b).\n",
    "\n",
    "Exponential Distribution: Describes the time between events in a Poisson point process, a process in which events occur continuously and independently at a constant average rate.\n",
    "\n",
    "Beta Distribution: Useful in modeling outcomes that are constrained to intervals (e.g., between 0 and 1). It's often used in Bayesian statistics.\n",
    "\n",
    "Gamma Distribution: A generalization of the exponential distribution, useful in modeling waiting times for multiple Poisson events.\n",
    "\n",
    "Weibull Distribution: Often used in reliability analysis and survival analysis.\n",
    "\n",
    "Log-Normal Distribution: Describes variables whose logarithm is normally distributed, often used in financial modeling.\n",
    "\n",
    "Chi-Squared Distribution: Primarily used in hypothesis testing and confidence interval estimation for variance from a normal population.\n",
    "\n",
    "t-Distribution: Used in place of the normal distribution for small sample sizes or unknown variances.\n",
    "\n",
    "F-Distribution: Used in the analysis of variance, among other applications."
   ]
  }
 ],
 "metadata": {
  "kernelspec": {
   "display_name": "Python 3 (ipykernel)",
   "language": "python",
   "name": "python3"
  },
  "language_info": {
   "codemirror_mode": {
    "name": "ipython",
    "version": 3
   },
   "file_extension": ".py",
   "mimetype": "text/x-python",
   "name": "python",
   "nbconvert_exporter": "python",
   "pygments_lexer": "ipython3",
   "version": "3.10.9"
  }
 },
 "nbformat": 4,
 "nbformat_minor": 5
}
